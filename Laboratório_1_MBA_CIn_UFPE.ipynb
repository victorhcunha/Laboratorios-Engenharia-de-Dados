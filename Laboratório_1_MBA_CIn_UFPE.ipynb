{
  "nbformat": 4,
  "nbformat_minor": 0,
  "metadata": {
    "colab": {
      "name": "Laboratório - 1- MBA - CIn-UFPE",
      "provenance": [],
      "include_colab_link": true
    },
    "kernelspec": {
      "name": "python3",
      "display_name": "Python 3"
    },
    "language_info": {
      "name": "python"
    }
  },
  "cells": [
    {
      "cell_type": "markdown",
      "metadata": {
        "id": "view-in-github",
        "colab_type": "text"
      },
      "source": [
        "<a href=\"https://colab.research.google.com/github/victorhcunha/Laboratorios-Engenharia-de-Dados/blob/main/Laborat%C3%B3rio_1_MBA_CIn_UFPE.ipynb\" target=\"_parent\"><img src=\"https://colab.research.google.com/assets/colab-badge.svg\" alt=\"Open In Colab\"/></a>"
      ]
    },
    {
      "cell_type": "markdown",
      "metadata": {
        "id": "JlH5Cvoa5eJj"
      },
      "source": [
        "#### Assuntos do Laboratório 1:\n",
        "- Tipos de variáveis\n",
        "- Operações aritméticas\n",
        "- Operações lógicas\n"
      ]
    },
    {
      "cell_type": "markdown",
      "metadata": {
        "id": "pTsmyiWA5UK3"
      },
      "source": [
        "### Questão 0:\n",
        "Escreva um programa que declara a variável **x** com o valor inicial 10."
      ]
    },
    {
      "cell_type": "code",
      "metadata": {
        "id": "PLyJ6kWZ5cic",
        "colab": {
          "base_uri": "https://localhost:8080/"
        },
        "outputId": "966b2948-0a02-4111-9700-8117efce9cd9"
      },
      "source": [
        "# codigo vai aqui\n",
        "\n",
        "x = 10\n",
        "\n",
        "print(x)"
      ],
      "execution_count": null,
      "outputs": [
        {
          "output_type": "stream",
          "name": "stdout",
          "text": [
            "10\n"
          ]
        }
      ]
    },
    {
      "cell_type": "markdown",
      "metadata": {
        "id": "EMvmwDWswVo1"
      },
      "source": [
        "###Questao 1:\n",
        "\n",
        "Crie um programa que possua 4 variáveis (anoNascimento, anoAtual, idade, mesesVividos). anoNascimento será inicializada com o ano do seu nascimento, anoAtual será inicializada com o ano atual e a idade será o cálculo da diferença entre as duas variáveis anoAtual e anoNascimento, e mesesVividos armazenará a quantidade de meses vividos."
      ]
    },
    {
      "cell_type": "code",
      "metadata": {
        "id": "PMvN35cJvwWf",
        "colab": {
          "base_uri": "https://localhost:8080/"
        },
        "outputId": "29557c97-1cb4-436f-b03a-6a01b47bb8eb"
      },
      "source": [
        "#codigo vai aqui\n",
        "anoNascimento = 1998\n",
        "anoAtual = 2021\n",
        "idade = anoAtual - anoNascimento\n",
        "mesesVividos = idade*12\n",
        "\n",
        "print(anoNascimento)\n",
        "print(anoAtual)\n",
        "print(idade)\n",
        "print(mesesVividos)"
      ],
      "execution_count": null,
      "outputs": [
        {
          "output_type": "stream",
          "name": "stdout",
          "text": [
            "1998\n",
            "2021\n",
            "23\n",
            "276\n"
          ]
        }
      ]
    },
    {
      "cell_type": "markdown",
      "metadata": {
        "id": "eA61dQhWxPVU"
      },
      "source": [
        "### Questao 2:\n",
        "\n",
        "Faça um programa que considera que existem caminhões de vacina em Pernambuco que transportam  10283 vacinas em cada caminhão. Sabendo que há 2.493.219 que precisam ser vacinados, depois da viagem de quantos caminhões essa população estará vacinada? "
      ]
    },
    {
      "cell_type": "code",
      "metadata": {
        "id": "wDeAwoFhxb6D",
        "colab": {
          "base_uri": "https://localhost:8080/"
        },
        "outputId": "7d9a52e5-b39d-4d88-c62b-787dc75dbd90"
      },
      "source": [
        "# codigo vai aqui\n",
        "\n",
        "vacinasNoCaminhao = 10283\n",
        "Populacao = 2493219\n",
        "\n",
        "viagens = int(Populacao/vacinasNoCaminhao) + int(Populacao % vacinasNoCaminhao != 0)"
      ],
      "execution_count": null,
      "outputs": [
        {
          "output_type": "stream",
          "name": "stdout",
          "text": [
            "243\n",
            "242\n"
          ]
        }
      ]
    },
    {
      "cell_type": "markdown",
      "metadata": {
        "id": "dcqGWjtyxdRq"
      },
      "source": [
        "### Questão 3:\n",
        "\n",
        "Peça ao usuário 3 valores Booleanos (b1, b2, b3) e imprima o resultado da expressão (b1 and b2) or b3\n"
      ]
    },
    {
      "cell_type": "code",
      "metadata": {
        "id": "g4RlHMWnxgc2",
        "colab": {
          "base_uri": "https://localhost:8080/"
        },
        "outputId": "d4e77945-eb72-426a-dd54-0525d82c1bc8"
      },
      "source": [
        "#codigo vai aqui\n",
        "\n",
        "b1 = bool(input(\"Digite o valor de b1: \"))\n",
        "b2 = bool(input(\"Digite o valor de b2: \"))\n",
        "b3 = bool(input(\"Digite o valor de b3: \"))\n",
        "resExp = (b1 and b2) or b3\n",
        "print(resExp)\n"
      ],
      "execution_count": null,
      "outputs": [
        {
          "output_type": "stream",
          "name": "stdout",
          "text": [
            "Digite o valor de b1: treu\n",
            "Digite o valor de b2: false\n",
            "Digite o valor de b3: true\n",
            "True\n"
          ]
        }
      ]
    },
    {
      "cell_type": "markdown",
      "metadata": {
        "id": "iUa6I3VaxdZT"
      },
      "source": [
        "### Questão 4:\n",
        "\n",
        "Escreva um programa que receba do usuário um número inteiro x de três dígitos (exemplo: 498) e imprima na tela um número contendo os dígitos invertidos de x (894). Use somente os operadores aritméticos vistos nessa aula.\n",
        "\n"
      ]
    },
    {
      "cell_type": "code",
      "metadata": {
        "id": "Df-myMkuxrAh"
      },
      "source": [
        "valorOriginal = int(input(\"Digite o valor de três dígitos: \"))\n",
        "if 99< valorOriginal > 999:\n",
        "  print(\"Erro\")\n",
        "else:\n",
        "  novaUnidade = int(valorOriginal/100)\n",
        "  valorOriginal = valorOriginal - novaUnidade * 100\n",
        "\n",
        "  novaDezena = int(valorOriginal/10)*10\n",
        "  valorOriginal = valorOriginal - novaDezena\n",
        "\n",
        "  novaCentena = int(valorOriginal) *100\n",
        "  print(novaUnidade+novaDezena+novaCentena)"
      ],
      "execution_count": null,
      "outputs": []
    }
  ]
}