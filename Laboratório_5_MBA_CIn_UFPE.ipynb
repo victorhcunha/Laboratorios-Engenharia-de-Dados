{
  "nbformat": 4,
  "nbformat_minor": 0,
  "metadata": {
    "colab": {
      "name": "Laboratório - 5- MBA - CIn-UFPE",
      "provenance": [],
      "collapsed_sections": [],
      "include_colab_link": true
    },
    "kernelspec": {
      "name": "python3",
      "display_name": "Python 3"
    },
    "language_info": {
      "name": "python"
    }
  },
  "cells": [
    {
      "cell_type": "markdown",
      "metadata": {
        "id": "view-in-github",
        "colab_type": "text"
      },
      "source": [
        "<a href=\"https://colab.research.google.com/github/victorhcunha/Laboratorios-Engenharia-de-Dados/blob/main/Laborat%C3%B3rio_5_MBA_CIn_UFPE.ipynb\" target=\"_parent\"><img src=\"https://colab.research.google.com/assets/colab-badge.svg\" alt=\"Open In Colab\"/></a>"
      ]
    },
    {
      "cell_type": "markdown",
      "metadata": {
        "id": "5b0JgHd19utr"
      },
      "source": [
        "#### Assunto do Laboratório 5:\n",
        "- Strings"
      ]
    },
    {
      "cell_type": "markdown",
      "metadata": {
        "id": "S20Kdlr691MV"
      },
      "source": [
        "### Questão 1:\n",
        "\n",
        "Escreva um programa que receba uma string como entrada do usuário e imprima o tamanho da string."
      ]
    },
    {
      "cell_type": "code",
      "metadata": {
        "id": "BwOxhAeg-ACp",
        "colab": {
          "base_uri": "https://localhost:8080/"
        },
        "outputId": "22fa0c5b-e0de-4337-f7c7-fa85991931e5"
      },
      "source": [
        "string = input(\"Digite a string: \")\n",
        "print(len(string))"
      ],
      "execution_count": null,
      "outputs": [
        {
          "output_type": "stream",
          "name": "stdout",
          "text": [
            "Digite a string: asdfds\n",
            "6\n"
          ]
        }
      ]
    },
    {
      "cell_type": "markdown",
      "metadata": {
        "id": "vZCKFy6Q-A9g"
      },
      "source": [
        "### Questão 2:\n",
        "\n",
        "Escreva um programa que receba uma string como entrada do usuário e imprima a quantidade de vogais."
      ]
    },
    {
      "cell_type": "code",
      "metadata": {
        "id": "gqr3RF75-Joi",
        "colab": {
          "base_uri": "https://localhost:8080/"
        },
        "outputId": "9c18abf3-2437-4f74-d8e8-c3d77d9765af"
      },
      "source": [
        "string = input(\"Digite a string: \")\n",
        "quantidadeVogais = 0\n",
        "for i in string:\n",
        "  if i in [\"a\",\"e\",\"i\",\"o\",\"u\"]:\n",
        "    quantidadeVogais += 1\n",
        "\n",
        "print(quantidadeVogais)\n"
      ],
      "execution_count": null,
      "outputs": [
        {
          "output_type": "stream",
          "name": "stdout",
          "text": [
            "Digite a string: adeas\n",
            "3\n"
          ]
        }
      ]
    },
    {
      "cell_type": "markdown",
      "metadata": {
        "id": "J2FhRnwM9Ms2"
      },
      "source": [
        "### Questão 3:\n",
        "\n",
        "Implemente um programa que solicita o tamanho da lista de palavras que o usuário dará como entrada. Após o usuário inserir as palavras, o programa deve imprimir as palavras da lista que sejam diferentes da palavra “segredo”.\n"
      ]
    },
    {
      "cell_type": "code",
      "metadata": {
        "id": "opwem2_G9O42"
      },
      "source": [
        "#codigo vai aqui\n",
        "tamanhoDaLista = int(input(\"Digite o tamanho da lista de palavras: \"))\n",
        "lista = []\n",
        "for i in range(0,tamanhoDaLista):\n",
        "  lista.append(input(\"Digite a palavra: \"))\n",
        "\n",
        "\n",
        "listaResultado = []\n",
        "for i in lista:\n",
        "  if i != \"segredo\":\n",
        "    listaResultado.append(i)\n",
        "\n",
        "print(\"Palavras diferentes de 'segredo':\")\n",
        "print(\" \".join(listaResultado))\n"
      ],
      "execution_count": null,
      "outputs": []
    },
    {
      "cell_type": "markdown",
      "metadata": {
        "id": "aWCv-i7t9QCq"
      },
      "source": [
        "### Questão 4:\n",
        "\n",
        "Implemente um programa que solicita para o usuário vários nomes de alunos até que ele dê como entrada uma string vazia. Por fim, exiba aqueles nomes que começam com as letras de A até M.\n"
      ]
    },
    {
      "cell_type": "code",
      "metadata": {
        "colab": {
          "base_uri": "https://localhost:8080/"
        },
        "id": "bqoXSsX9hZbq",
        "outputId": "d2bfe55c-2354-48ce-8c05-f531b91d86b6"
      },
      "source": [
        "lista = []\n",
        "while True:\n",
        "  nome = input(\"Digite o nome: \")\n",
        "  if nome in [\"\",\" \"]:\n",
        "    break\n",
        "  elif (chr(77) <= nome[0] <= chr(65)) or (chr(97) <= nome[0] <= chr(109)):\n",
        "    lista.append(nome)\n",
        "\n",
        "print(\"Palavras iniciadas com letras entre A e M:\")\n",
        "print(\" \".join(lista))"
      ],
      "execution_count": null,
      "outputs": [
        {
          "output_type": "stream",
          "name": "stdout",
          "text": [
            "Digite o nome: amanda\n",
            "Digite o nome: josa\n",
            "Digite o nome: rafa\n",
            "Digite o nome: marcelo\n",
            "Digite o nome: \n",
            "Palavras iniciadas com letras entre A e M:\n",
            "amanda josa marcelo\n"
          ]
        }
      ]
    },
    {
      "cell_type": "markdown",
      "metadata": {
        "id": "0F86MPIp-MxF"
      },
      "source": [
        "### Questão 5:\n",
        "\n",
        "Implemente um programa que solicita 5 nomes para o usuário. Seu programa deve transformar os nomes fornecidos para os mesmos nomes com caracteres maiúsculos \n"
      ]
    },
    {
      "cell_type": "code",
      "metadata": {
        "id": "WZ-NICgO-Q35",
        "colab": {
          "base_uri": "https://localhost:8080/"
        },
        "outputId": "cd5dba5b-3cf4-44fa-b6d0-16ef0e8ef33e"
      },
      "source": [
        "#codigo vai aqui\n",
        "listaNomes = []\n",
        "for i in range(5):\n",
        "  nome = input(\"Digite um nome: \")\n",
        "  listaNomes.append(nome)\n",
        "\n",
        "for nome in listaNomes:\n",
        "  stringMaiuscula = \"\"\n",
        "  for letra in nome:\n",
        "    if letra >= \"a\" and letra <= \"z\":\n",
        "      stringMaiuscula += chr( ord(letra) - 32 )\n",
        "    else:\n",
        "      stringMaiuscula += letra\n",
        "  print(stringMaiuscula)  "
      ],
      "execution_count": null,
      "outputs": [
        {
          "output_type": "stream",
          "text": [
            "Digite um nome: ioAJSDIAJS(*y*A&TD76g`masdkmasd, \n",
            "Digite um nome: AOIDJasoIDA<@*(@#(@1\n",
            "Digite um nome: LAKSDMALSKDMlasdmkasld\n",
            "Digite um nome: ASDJOIAJSDoasij90q098\n",
            "Digite um nome: aOISDJoaisjd90u112\n",
            "IOAJSDIAJS(*Y*A&TD76G`MASDKMASD, \n",
            "AOIDJASOIDA<@*(@#(@1\n",
            "LAKSDMALSKDMLASDMKASLD\n",
            "ASDJOIAJSDOASIJ90Q098\n",
            "AOISDJOAISJD90U112\n"
          ],
          "name": "stdout"
        }
      ]
    },
    {
      "cell_type": "markdown",
      "metadata": {
        "id": "-Gr7xwMW-UY7"
      },
      "source": [
        "### Questão 6:\n",
        "\n",
        "Implemente um programa que receba uma frase do usuário. O programa deve imprimir a frase com todas as palavras começando com a letra maiúscula e todas as outras começando com a letra minúscula.\n",
        "Exemplo:\n",
        "\n",
        "Input:“o GATO roeu a roupa DO REI de roMA”\n",
        "\n",
        "Output: “O Gato Roeu A Roupa Do Rei De Roma”\n"
      ]
    },
    {
      "cell_type": "code",
      "metadata": {
        "id": "ey_EwWQzLC17"
      },
      "source": [
        "frase = input(\"Digite a frase: \")\n",
        "\n",
        "deveSerMaiusculo = True\n",
        "novaFrase = \"\"\n",
        "\n",
        "for i in frase:\n",
        "  if deveSerMaiusculo:\n",
        "    deveSerMaiusculo = False\n",
        "    if i >= \"a\" and i <= \"z\":\n",
        "      novaFrase += chr( ord(i) - 32 )\n",
        "    else:\n",
        "      novaFrase += i\n",
        "  elif i == \" \":\n",
        "    deveSerMaiusculo = True\n",
        "    novaFrase += i\n",
        "  else:\n",
        "    novaFrase += i\n",
        "\n",
        "print(novaFrase)"
      ],
      "execution_count": null,
      "outputs": []
    }
  ]
}